{
 "cells": [
  {
   "cell_type": "markdown",
   "id": "4c4566b0",
   "metadata": {},
   "source": [
    "<font size = 8> Autodiff in PyTorch"
   ]
  },
  {
   "cell_type": "markdown",
   "id": "eb55a8a6",
   "metadata": {},
   "source": [
    "***"
   ]
  },
  {
   "cell_type": "markdown",
   "id": "6fe5b45a",
   "metadata": {},
   "source": [
    "## Libraries & Stuff"
   ]
  },
  {
   "cell_type": "code",
   "execution_count": null,
   "id": "6a825863",
   "metadata": {},
   "outputs": [],
   "source": [
    "import numpy as np"
   ]
  },
  {
   "cell_type": "code",
   "execution_count": 1,
   "id": "9766dce1",
   "metadata": {},
   "outputs": [],
   "source": [
    "import torch"
   ]
  },
  {
   "cell_type": "code",
   "execution_count": null,
   "id": "ae719c97",
   "metadata": {},
   "outputs": [],
   "source": [
    "import tensorflow as tf"
   ]
  },
  {
   "cell_type": "code",
   "execution_count": null,
   "id": "9e9a6b59",
   "metadata": {},
   "outputs": [],
   "source": [
    "import matplotlib.pyplot as plt"
   ]
  },
  {
   "cell_type": "markdown",
   "id": "9952d680",
   "metadata": {},
   "source": [
    ".DS_Store files\n",
    "\n",
    "find .  -name \".DS_Store\" -depth -exec rm {} \\;"
   ]
  },
  {
   "cell_type": "code",
   "execution_count": 1,
   "id": "f21f44a9",
   "metadata": {},
   "outputs": [],
   "source": [
    "def plot_vectors(vectors, colors):\n",
    "    \"\"\"\n",
    "    Plot one or more vectors in a 2D plane, specifying a color for each. \n",
    "\n",
    "    Arguments\n",
    "    ---------\n",
    "    vectors: list of lists or of arrays\n",
    "        Coordinates of the vectors to plot. For example, [[1, 3], [2, 2]] \n",
    "        contains two vectors to plot, [1, 3] and [2, 2].\n",
    "    colors: list\n",
    "        Colors of the vectors. For instance: ['red', 'blue'] will display the\n",
    "        first vector in red and the second in blue.\n",
    "        \n",
    "    Example\n",
    "    -------\n",
    "    plot_vectors([[1, 3], [2, 2]], ['red', 'blue'])\n",
    "    plt.xlim(-1, 4)\n",
    "    plt.ylim(-1, 4)\n",
    "    \"\"\"\n",
    "    plt.figure()\n",
    "    plt.axvline(x=0, color='lightgray')\n",
    "    plt.axhline(y=0, color='lightgray')\n",
    "\n",
    "    for i in range(len(vectors)):\n",
    "        x = np.concatenate([[0,0],vectors[i]])\n",
    "        plt.quiver([x[0]], [x[1]], [x[2]], [x[3]],\n",
    "                   angles='xy', scale_units='xy', scale=1, color=colors[i],)"
   ]
  },
  {
   "cell_type": "code",
   "execution_count": 2,
   "id": "e3ac2ff2",
   "metadata": {},
   "outputs": [],
   "source": [
    "# function to convert column of matrix to 1D vector: \n",
    "def vectorfy(mtrx, clmn):\n",
    "    return np.array(mtrx[:,clmn]).reshape(-1)"
   ]
  },
  {
   "cell_type": "markdown",
   "id": "6667b867",
   "metadata": {},
   "source": [
    "***"
   ]
  },
  {
   "cell_type": "markdown",
   "id": "6bbabd33",
   "metadata": {
    "id": "laWM6cgvcxbG"
   },
   "source": [
    "**TensorFlow** and **PyTorch** are the two most popular automatic differentiation libraries."
   ]
  },
  {
   "cell_type": "markdown",
   "id": "02b88390",
   "metadata": {
    "id": "RLi7jwLEzaDB"
   },
   "source": [
    "Let's use them to calculate $dy/dx$ at $x = 5$ where: "
   ]
  },
  {
   "cell_type": "markdown",
   "id": "3cf8e0d9",
   "metadata": {
    "id": "qmgeCDWycxbL"
   },
   "source": [
    "$$y = x^2$$"
   ]
  },
  {
   "cell_type": "markdown",
   "id": "6df6d7e5",
   "metadata": {
    "id": "MhMxT9oQcxbL"
   },
   "source": [
    "$$ \\frac{dy}{dx} = 2x = 2(5) = 10 $$"
   ]
  },
  {
   "cell_type": "code",
   "execution_count": 2,
   "id": "f241c45d",
   "metadata": {},
   "outputs": [],
   "source": [
    "# dy/dx at x = 5\n",
    "\n",
    "# y = x**2\n",
    "\n",
    "# dy/dx = 2x = 10"
   ]
  },
  {
   "cell_type": "code",
   "execution_count": 3,
   "id": "1e4dee05",
   "metadata": {},
   "outputs": [],
   "source": [
    "import torch"
   ]
  },
  {
   "cell_type": "code",
   "execution_count": 4,
   "id": "c0df67ae",
   "metadata": {},
   "outputs": [],
   "source": [
    "x = torch.tensor(5.0)"
   ]
  },
  {
   "cell_type": "code",
   "execution_count": 12,
   "id": "06c138ea",
   "metadata": {},
   "outputs": [
    {
     "data": {
      "text/plain": [
       "tensor(5., requires_grad=True)"
      ]
     },
     "execution_count": 12,
     "metadata": {},
     "output_type": "execute_result"
    }
   ],
   "source": [
    "x"
   ]
  },
  {
   "cell_type": "code",
   "execution_count": 13,
   "id": "87ecea5a",
   "metadata": {},
   "outputs": [
    {
     "data": {
      "text/plain": [
       "tensor(5., requires_grad=True)"
      ]
     },
     "execution_count": 13,
     "metadata": {},
     "output_type": "execute_result"
    }
   ],
   "source": [
    "######### REQUIRE GRADIENT ###########\n",
    "\n",
    "x.requires_grad_() \n",
    "\n",
    "\n",
    "# contagiously track gradients through forward pass"
   ]
  },
  {
   "cell_type": "code",
   "execution_count": 18,
   "id": "519710f8",
   "metadata": {},
   "outputs": [],
   "source": [
    "# this turns the reqires_grad property of the tensor object from FALSE to TRUE"
   ]
  },
  {
   "cell_type": "code",
   "execution_count": null,
   "id": "32d082f0",
   "metadata": {},
   "outputs": [],
   "source": [
    "# tracking gradient is required if we are to calculate the differential of x"
   ]
  },
  {
   "cell_type": "code",
   "execution_count": 19,
   "id": "6197afe3",
   "metadata": {},
   "outputs": [],
   "source": [
    "y = x**2\n",
    "\n",
    "# contagiously means, any variable (y) will also track the gradient"
   ]
  },
  {
   "cell_type": "code",
   "execution_count": 20,
   "id": "b7a280b4",
   "metadata": {},
   "outputs": [
    {
     "data": {
      "text/plain": [
       "tensor(25., grad_fn=<PowBackward0>)"
      ]
     },
     "execution_count": 20,
     "metadata": {},
     "output_type": "execute_result"
    }
   ],
   "source": [
    "y"
   ]
  },
  {
   "cell_type": "code",
   "execution_count": 16,
   "id": "162d1844",
   "metadata": {},
   "outputs": [],
   "source": [
    "y.backward() \n",
    "\n",
    "# this is the autodiff command"
   ]
  },
  {
   "cell_type": "code",
   "execution_count": 22,
   "id": "50cfc1d7",
   "metadata": {},
   "outputs": [
    {
     "data": {
      "text/plain": [
       "tensor(10.)"
      ]
     },
     "execution_count": 22,
     "metadata": {},
     "output_type": "execute_result"
    }
   ],
   "source": [
    "x.grad\n",
    "\n",
    "# this is the gradient of t wrt x\n",
    "\n",
    "# this gives us the value of dy/dx"
   ]
  },
  {
   "cell_type": "code",
   "execution_count": null,
   "id": "63f321e7",
   "metadata": {},
   "outputs": [],
   "source": []
  }
 ],
 "metadata": {
  "kernelspec": {
   "display_name": "Python 3 (ipykernel)",
   "language": "python",
   "name": "python3"
  },
  "language_info": {
   "codemirror_mode": {
    "name": "ipython",
    "version": 3
   },
   "file_extension": ".py",
   "mimetype": "text/x-python",
   "name": "python",
   "nbconvert_exporter": "python",
   "pygments_lexer": "ipython3",
   "version": "3.9.12"
  }
 },
 "nbformat": 4,
 "nbformat_minor": 5
}
