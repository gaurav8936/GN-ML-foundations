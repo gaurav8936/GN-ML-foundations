{
 "cells": [
  {
   "cell_type": "markdown",
   "id": "4c4566b0",
   "metadata": {},
   "source": [
    "<font size = 6> Calculating Partial Derivatives with Autodiff"
   ]
  },
  {
   "cell_type": "markdown",
   "id": "eb55a8a6",
   "metadata": {},
   "source": [
    "***"
   ]
  },
  {
   "cell_type": "markdown",
   "id": "6fe5b45a",
   "metadata": {},
   "source": [
    "## Libraries & Stuff"
   ]
  },
  {
   "cell_type": "code",
   "execution_count": null,
   "id": "6a825863",
   "metadata": {},
   "outputs": [],
   "source": [
    "import numpy as np"
   ]
  },
  {
   "cell_type": "code",
   "execution_count": 1,
   "id": "9766dce1",
   "metadata": {},
   "outputs": [],
   "source": [
    "import torch"
   ]
  },
  {
   "cell_type": "code",
   "execution_count": null,
   "id": "ae719c97",
   "metadata": {},
   "outputs": [],
   "source": [
    "import tensorflow as tf"
   ]
  },
  {
   "cell_type": "code",
   "execution_count": 2,
   "id": "9e9a6b59",
   "metadata": {},
   "outputs": [],
   "source": [
    "import matplotlib.pyplot as plt"
   ]
  },
  {
   "cell_type": "code",
   "execution_count": null,
   "id": "d5b13378",
   "metadata": {},
   "outputs": [],
   "source": [
    "import math # for constant pi"
   ]
  },
  {
   "cell_type": "markdown",
   "id": "9952d680",
   "metadata": {},
   "source": [
    ".DS_Store files\n",
    "\n",
    "find .  -name \".DS_Store\" -depth -exec rm {} \\;"
   ]
  },
  {
   "cell_type": "code",
   "execution_count": 1,
   "id": "f21f44a9",
   "metadata": {},
   "outputs": [],
   "source": [
    "def plot_vectors(vectors, colors):\n",
    "    \"\"\"\n",
    "    Plot one or more vectors in a 2D plane, specifying a color for each. \n",
    "\n",
    "    Arguments\n",
    "    ---------\n",
    "    vectors: list of lists or of arrays\n",
    "        Coordinates of the vectors to plot. For example, [[1, 3], [2, 2]] \n",
    "        contains two vectors to plot, [1, 3] and [2, 2].\n",
    "    colors: list\n",
    "        Colors of the vectors. For instance: ['red', 'blue'] will display the\n",
    "        first vector in red and the second in blue.\n",
    "        \n",
    "    Example\n",
    "    -------\n",
    "    plot_vectors([[1, 3], [2, 2]], ['red', 'blue'])\n",
    "    plt.xlim(-1, 4)\n",
    "    plt.ylim(-1, 4)\n",
    "    \"\"\"\n",
    "    plt.figure()\n",
    "    plt.axvline(x=0, color='lightgray')\n",
    "    plt.axhline(y=0, color='lightgray')\n",
    "\n",
    "    for i in range(len(vectors)):\n",
    "        x = np.concatenate([[0,0],vectors[i]])\n",
    "        plt.quiver([x[0]], [x[1]], [x[2]], [x[3]],\n",
    "                   angles='xy', scale_units='xy', scale=1, color=colors[i],)"
   ]
  },
  {
   "cell_type": "code",
   "execution_count": 2,
   "id": "e3ac2ff2",
   "metadata": {},
   "outputs": [],
   "source": [
    "# function to convert column of matrix to 1D vector: \n",
    "def vectorfy(mtrx, clmn):\n",
    "    return np.array(mtrx[:,clmn]).reshape(-1)"
   ]
  },
  {
   "cell_type": "markdown",
   "id": "6667b867",
   "metadata": {},
   "source": [
    "***"
   ]
  },
  {
   "cell_type": "code",
   "execution_count": null,
   "id": "25aeffbe",
   "metadata": {},
   "outputs": [],
   "source": [
    "# determining partial derivatives by hand is useful. "
   ]
  },
  {
   "cell_type": "markdown",
   "id": "b0c44d71",
   "metadata": {
    "id": "IwiI0uisDoeg"
   },
   "source": [
    "Determining partial derivatives by hand using rules is helpful for understanding how calculus works. In practice, however, autodiff enables us to do so more easily (especially if there are a large number of variables). For example, let's use the PyTorch automatic differentiation library to calculate the slope of $z$ with respect to both $x$ and $y$ at any given point $(x, y, z)$:"
   ]
  },
  {
   "cell_type": "code",
   "execution_count": null,
   "id": "130d772e",
   "metadata": {},
   "outputs": [],
   "source": [
    "# calculating the slop fo z wrt to both x & y at any given point (x,y,z)"
   ]
  },
  {
   "cell_type": "code",
   "execution_count": 3,
   "id": "5e9b5a1c",
   "metadata": {},
   "outputs": [],
   "source": [
    "x = torch.tensor(0.).requires_grad_()"
   ]
  },
  {
   "cell_type": "code",
   "execution_count": 5,
   "id": "14fdb76d",
   "metadata": {},
   "outputs": [],
   "source": [
    "y = torch.tensor(0.).requires_grad_()"
   ]
  },
  {
   "cell_type": "markdown",
   "id": "d33273b5",
   "metadata": {
    "id": "jt2Fb7bmDoeV"
   },
   "source": [
    "Define a function $f(x, y)$ for $z = x^2 - y^2$: "
   ]
  },
  {
   "cell_type": "code",
   "execution_count": 7,
   "id": "8c7b03db",
   "metadata": {},
   "outputs": [],
   "source": [
    "def f(my_x, my_y):\n",
    "    return my_x**2  - my_y**2"
   ]
  },
  {
   "cell_type": "code",
   "execution_count": 8,
   "id": "e2c3d615",
   "metadata": {},
   "outputs": [],
   "source": [
    "z = f(x,y) # this is the forward pass"
   ]
  },
  {
   "cell_type": "code",
   "execution_count": 9,
   "id": "efc3d0dd",
   "metadata": {},
   "outputs": [
    {
     "data": {
      "text/plain": [
       "tensor(0., grad_fn=<SubBackward0>)"
      ]
     },
     "execution_count": 9,
     "metadata": {},
     "output_type": "execute_result"
    }
   ],
   "source": [
    "z"
   ]
  },
  {
   "cell_type": "code",
   "execution_count": 10,
   "id": "5567929a",
   "metadata": {},
   "outputs": [],
   "source": [
    "# gradient tracknig flows through"
   ]
  },
  {
   "cell_type": "code",
   "execution_count": 11,
   "id": "ae61c2dd",
   "metadata": {},
   "outputs": [],
   "source": [
    "z.backward()\n",
    "\n",
    "# this is autodiff"
   ]
  },
  {
   "cell_type": "markdown",
   "id": "94fb865c",
   "metadata": {
    "id": "_L7fUeBfDoeh"
   },
   "source": [
    "As we already knew from our exercises above, the slope of the point (0, 0, 0) is zero with respect to both the $x$ and $y$ axes: "
   ]
  },
  {
   "cell_type": "code",
   "execution_count": 13,
   "id": "85cbea0c",
   "metadata": {},
   "outputs": [
    {
     "data": {
      "text/plain": [
       "tensor(0.)"
      ]
     },
     "execution_count": 13,
     "metadata": {},
     "output_type": "execute_result"
    }
   ],
   "source": [
    "# calculating the gradient of z wrt x\n",
    "\n",
    "x.grad"
   ]
  },
  {
   "cell_type": "code",
   "execution_count": 15,
   "id": "ca84bfca",
   "metadata": {},
   "outputs": [
    {
     "data": {
      "text/plain": [
       "tensor(-0.)"
      ]
     },
     "execution_count": 15,
     "metadata": {},
     "output_type": "execute_result"
    }
   ],
   "source": [
    "# calculating the gradient of z wrt y\n",
    "\n",
    "y.grad"
   ]
  },
  {
   "attachments": {
    "image-2.png": {
     "image/png": "[encoded data removed]"
    }
   },
   "cell_type": "markdown",
   "id": "8bbd81f1",
   "metadata": {},
   "source": [
    "![image-2.png](attachment:image-2.png)"
   ]
  },
  {
   "cell_type": "code",
   "execution_count": 16,
   "id": "da120888",
   "metadata": {},
   "outputs": [],
   "source": [
    "# at this point, x = y = z =0"
   ]
  },
  {
   "cell_type": "code",
   "execution_count": 17,
   "id": "f20a8d51",
   "metadata": {},
   "outputs": [],
   "source": [
    "# at this point there is no slope of z wrt x or y"
   ]
  },
  {
   "cell_type": "markdown",
   "id": "0eebb7ca",
   "metadata": {},
   "source": [
    "## Calculate slope for x = 2, y = -3"
   ]
  },
  {
   "cell_type": "code",
   "execution_count": 30,
   "id": "e57457ab",
   "metadata": {},
   "outputs": [],
   "source": [
    "x1 = torch.tensor(2.).requires_grad_()"
   ]
  },
  {
   "cell_type": "code",
   "execution_count": 20,
   "id": "beb0e533",
   "metadata": {},
   "outputs": [
    {
     "data": {
      "text/plain": [
       "tensor(2., requires_grad=True)"
      ]
     },
     "execution_count": 20,
     "metadata": {},
     "output_type": "execute_result"
    }
   ],
   "source": [
    "x1"
   ]
  },
  {
   "cell_type": "code",
   "execution_count": 31,
   "id": "d97b4ceb",
   "metadata": {},
   "outputs": [],
   "source": [
    "y1 = torch.tensor(-3.).requires_grad_()"
   ]
  },
  {
   "cell_type": "code",
   "execution_count": 21,
   "id": "c5ce7df0",
   "metadata": {},
   "outputs": [
    {
     "data": {
      "text/plain": [
       "tensor(-3., requires_grad=True)"
      ]
     },
     "execution_count": 21,
     "metadata": {},
     "output_type": "execute_result"
    }
   ],
   "source": [
    "y1"
   ]
  },
  {
   "cell_type": "code",
   "execution_count": 38,
   "id": "f712301e",
   "metadata": {},
   "outputs": [],
   "source": [
    "z1 = f(x1, y1)"
   ]
  },
  {
   "cell_type": "code",
   "execution_count": 29,
   "id": "d8028720",
   "metadata": {},
   "outputs": [
    {
     "data": {
      "text/plain": [
       "1"
      ]
     },
     "execution_count": 29,
     "metadata": {},
     "output_type": "execute_result"
    }
   ],
   "source": [
    "1"
   ]
  },
  {
   "cell_type": "code",
   "execution_count": 39,
   "id": "2394379f",
   "metadata": {},
   "outputs": [],
   "source": [
    "# AUTODIFF\n",
    "\n",
    "z1.backward()"
   ]
  },
  {
   "cell_type": "code",
   "execution_count": 40,
   "id": "c7e23173",
   "metadata": {},
   "outputs": [
    {
     "data": {
      "text/plain": [
       "tensor(8.)"
      ]
     },
     "execution_count": 40,
     "metadata": {},
     "output_type": "execute_result"
    }
   ],
   "source": [
    "# gradient of z wrt x\n",
    "\n",
    "x1.grad"
   ]
  },
  {
   "cell_type": "code",
   "execution_count": 41,
   "id": "9b92b81a",
   "metadata": {},
   "outputs": [
    {
     "data": {
      "text/plain": [
       "tensor(12.)"
      ]
     },
     "execution_count": 41,
     "metadata": {},
     "output_type": "execute_result"
    }
   ],
   "source": [
    "# gradient of z wrt y\n",
    "\n",
    "y1.grad"
   ]
  },
  {
   "attachments": {
    "image.png": {
     "image/png": "[encoded data removed]"
    }
   },
   "cell_type": "markdown",
   "id": "4fcd4124",
   "metadata": {},
   "source": [
    "![image.png](attachment:image.png)"
   ]
  },
  {
   "cell_type": "markdown",
   "id": "bebc04bf",
   "metadata": {},
   "source": [
    "***"
   ]
  },
  {
   "cell_type": "code",
   "execution_count": 43,
   "id": "5c8f8798",
   "metadata": {},
   "outputs": [],
   "source": [
    "x2 = torch.tensor(3.0).requires_grad_()"
   ]
  },
  {
   "cell_type": "code",
   "execution_count": 45,
   "id": "31e76358",
   "metadata": {},
   "outputs": [],
   "source": [
    "y2 = torch.tensor(.0).requires_grad_()"
   ]
  },
  {
   "cell_type": "code",
   "execution_count": 46,
   "id": "dfb3219a",
   "metadata": {},
   "outputs": [],
   "source": [
    "z2 = f(x2, y2)"
   ]
  },
  {
   "cell_type": "code",
   "execution_count": 47,
   "id": "208a853a",
   "metadata": {},
   "outputs": [
    {
     "data": {
      "text/plain": [
       "tensor(9., grad_fn=<SubBackward0>)"
      ]
     },
     "execution_count": 47,
     "metadata": {},
     "output_type": "execute_result"
    }
   ],
   "source": [
    "z2"
   ]
  },
  {
   "cell_type": "code",
   "execution_count": 48,
   "id": "9faf252f",
   "metadata": {},
   "outputs": [],
   "source": [
    "z2.backward()"
   ]
  },
  {
   "cell_type": "code",
   "execution_count": 50,
   "id": "e3ecf519",
   "metadata": {},
   "outputs": [
    {
     "data": {
      "text/plain": [
       "tensor(6.)"
      ]
     },
     "execution_count": 50,
     "metadata": {},
     "output_type": "execute_result"
    }
   ],
   "source": [
    "x2.grad"
   ]
  },
  {
   "cell_type": "code",
   "execution_count": 51,
   "id": "205f4d07",
   "metadata": {},
   "outputs": [
    {
     "data": {
      "text/plain": [
       "tensor(-0.)"
      ]
     },
     "execution_count": 51,
     "metadata": {},
     "output_type": "execute_result"
    }
   ],
   "source": [
    "y2.grad"
   ]
  },
  {
   "cell_type": "markdown",
   "id": "8ba960b0",
   "metadata": {},
   "source": [
    "***"
   ]
  },
  {
   "cell_type": "code",
   "execution_count": 52,
   "id": "74ac0b53",
   "metadata": {},
   "outputs": [],
   "source": [
    "x3 = torch.tensor(2.0).requires_grad_()"
   ]
  },
  {
   "cell_type": "code",
   "execution_count": 53,
   "id": "8ef65531",
   "metadata": {},
   "outputs": [],
   "source": [
    "y3 = torch.tensor(3.0).requires_grad_()"
   ]
  },
  {
   "cell_type": "code",
   "execution_count": 54,
   "id": "522a89e7",
   "metadata": {},
   "outputs": [],
   "source": [
    "z3 = f(x3, y3)"
   ]
  },
  {
   "cell_type": "code",
   "execution_count": 55,
   "id": "a1d5f5a0",
   "metadata": {},
   "outputs": [],
   "source": [
    "z3.backward()"
   ]
  },
  {
   "cell_type": "code",
   "execution_count": 56,
   "id": "08cdb99f",
   "metadata": {},
   "outputs": [
    {
     "data": {
      "text/plain": [
       "tensor(4.)"
      ]
     },
     "execution_count": 56,
     "metadata": {},
     "output_type": "execute_result"
    }
   ],
   "source": [
    "x3.grad"
   ]
  },
  {
   "cell_type": "code",
   "execution_count": 57,
   "id": "fccef195",
   "metadata": {},
   "outputs": [
    {
     "data": {
      "text/plain": [
       "tensor(-6.)"
      ]
     },
     "execution_count": 57,
     "metadata": {},
     "output_type": "execute_result"
    }
   ],
   "source": [
    "y3.grad"
   ]
  },
  {
   "cell_type": "markdown",
   "id": "43636d54",
   "metadata": {},
   "source": [
    "***"
   ]
  },
  {
   "cell_type": "code",
   "execution_count": 58,
   "id": "37c57735",
   "metadata": {},
   "outputs": [],
   "source": [
    "x4 = torch.tensor(-2.0).requires_grad_()"
   ]
  },
  {
   "cell_type": "code",
   "execution_count": 59,
   "id": "d3d3e85a",
   "metadata": {},
   "outputs": [],
   "source": [
    "y4 = torch.tensor(-3.0).requires_grad_()"
   ]
  },
  {
   "cell_type": "code",
   "execution_count": 60,
   "id": "84052034",
   "metadata": {},
   "outputs": [],
   "source": [
    "z4 = f(x4, y4)"
   ]
  },
  {
   "cell_type": "code",
   "execution_count": 61,
   "id": "d42d8b54",
   "metadata": {},
   "outputs": [],
   "source": [
    "z4.backward()"
   ]
  },
  {
   "cell_type": "code",
   "execution_count": 62,
   "id": "f7e88d28",
   "metadata": {},
   "outputs": [
    {
     "data": {
      "text/plain": [
       "tensor(-4.)"
      ]
     },
     "execution_count": 62,
     "metadata": {},
     "output_type": "execute_result"
    }
   ],
   "source": [
    "x4.grad"
   ]
  },
  {
   "cell_type": "code",
   "execution_count": 63,
   "id": "aecda1d8",
   "metadata": {},
   "outputs": [
    {
     "data": {
      "text/plain": [
       "tensor(6.)"
      ]
     },
     "execution_count": 63,
     "metadata": {},
     "output_type": "execute_result"
    }
   ],
   "source": [
    "y4.grad"
   ]
  },
  {
   "cell_type": "code",
   "execution_count": null,
   "id": "78873268",
   "metadata": {},
   "outputs": [],
   "source": []
  }
 ],
 "metadata": {
  "kernelspec": {
   "display_name": "Python 3 (ipykernel)",
   "language": "python",
   "name": "python3"
  },
  "language_info": {
   "codemirror_mode": {
    "name": "ipython",
    "version": 3
   },
   "file_extension": ".py",
   "mimetype": "text/x-python",
   "name": "python",
   "nbconvert_exporter": "python",
   "pygments_lexer": "ipython3",
   "version": "3.9.12"
  }
 },
 "nbformat": 4,
 "nbformat_minor": 5
}
