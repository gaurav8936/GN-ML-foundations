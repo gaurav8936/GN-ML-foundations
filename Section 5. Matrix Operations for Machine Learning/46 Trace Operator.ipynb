{
 "cells": [
  {
   "cell_type": "markdown",
   "id": "4c4566b0",
   "metadata": {},
   "source": [
    "<font size = 8> Trace Operator"
   ]
  },
  {
   "cell_type": "markdown",
   "id": "eb55a8a6",
   "metadata": {},
   "source": [
    "***"
   ]
  },
  {
   "cell_type": "markdown",
   "id": "6fe5b45a",
   "metadata": {},
   "source": [
    "## Libraries & Stuff"
   ]
  },
  {
   "cell_type": "code",
   "execution_count": 3,
   "id": "6a825863",
   "metadata": {},
   "outputs": [],
   "source": [
    "import numpy as np"
   ]
  },
  {
   "cell_type": "code",
   "execution_count": null,
   "id": "9766dce1",
   "metadata": {},
   "outputs": [],
   "source": [
    "import torch"
   ]
  },
  {
   "cell_type": "code",
   "execution_count": null,
   "id": "ae719c97",
   "metadata": {},
   "outputs": [],
   "source": [
    "import tensorflow as tf"
   ]
  },
  {
   "cell_type": "code",
   "execution_count": null,
   "id": "9e9a6b59",
   "metadata": {},
   "outputs": [],
   "source": [
    "import matplotlib.pyplot as plt"
   ]
  },
  {
   "cell_type": "markdown",
   "id": "9952d680",
   "metadata": {},
   "source": [
    ".DS_Store files\n",
    "\n",
    "find .  -name \".DS_Store\" -depth -exec rm {} \\;"
   ]
  },
  {
   "cell_type": "code",
   "execution_count": 1,
   "id": "f21f44a9",
   "metadata": {},
   "outputs": [],
   "source": [
    "def plot_vectors(vectors, colors):\n",
    "    \"\"\"\n",
    "    Plot one or more vectors in a 2D plane, specifying a color for each. \n",
    "\n",
    "    Arguments\n",
    "    ---------\n",
    "    vectors: list of lists or of arrays\n",
    "        Coordinates of the vectors to plot. For example, [[1, 3], [2, 2]] \n",
    "        contains two vectors to plot, [1, 3] and [2, 2].\n",
    "    colors: list\n",
    "        Colors of the vectors. For instance: ['red', 'blue'] will display the\n",
    "        first vector in red and the second in blue.\n",
    "        \n",
    "    Example\n",
    "    -------\n",
    "    plot_vectors([[1, 3], [2, 2]], ['red', 'blue'])\n",
    "    plt.xlim(-1, 4)\n",
    "    plt.ylim(-1, 4)\n",
    "    \"\"\"\n",
    "    plt.figure()\n",
    "    plt.axvline(x=0, color='lightgray')\n",
    "    plt.axhline(y=0, color='lightgray')\n",
    "\n",
    "    for i in range(len(vectors)):\n",
    "        x = np.concatenate([[0,0],vectors[i]])\n",
    "        plt.quiver([x[0]], [x[1]], [x[2]], [x[3]],\n",
    "                   angles='xy', scale_units='xy', scale=1, color=colors[i],)"
   ]
  },
  {
   "cell_type": "code",
   "execution_count": 2,
   "id": "e3ac2ff2",
   "metadata": {},
   "outputs": [],
   "source": [
    "# function to convert column of matrix to 1D vector: \n",
    "def vectorfy(mtrx, clmn):\n",
    "    return np.array(mtrx[:,clmn]).reshape(-1)"
   ]
  },
  {
   "cell_type": "markdown",
   "id": "6667b867",
   "metadata": {},
   "source": [
    "***"
   ]
  },
  {
   "cell_type": "code",
   "execution_count": 1,
   "id": "25aeffbe",
   "metadata": {},
   "outputs": [],
   "source": [
    "# rearranging linear algebra equations"
   ]
  },
  {
   "cell_type": "markdown",
   "id": "fab96c34",
   "metadata": {},
   "source": [
    "***"
   ]
  },
  {
   "cell_type": "markdown",
   "id": "fd6ca221",
   "metadata": {
    "id": "dq9uqorvj3Zd"
   },
   "source": [
    "Denoted as Tr($A$). Simply the sum of the diagonal elements of a matrix: $$\\sum_i A_{i,i}$$"
   ]
  },
  {
   "cell_type": "code",
   "execution_count": 2,
   "id": "360b0f3d",
   "metadata": {},
   "outputs": [],
   "source": [
    "# sum of the diagonal elements of an operator"
   ]
  },
  {
   "cell_type": "code",
   "execution_count": 4,
   "id": "a8005750",
   "metadata": {},
   "outputs": [],
   "source": [
    "A = np.array([[25, 2], [5, 4]])"
   ]
  },
  {
   "cell_type": "code",
   "execution_count": 5,
   "id": "6b0b20ce",
   "metadata": {},
   "outputs": [
    {
     "data": {
      "text/plain": [
       "array([[25,  2],\n",
       "       [ 5,  4]])"
      ]
     },
     "execution_count": 5,
     "metadata": {},
     "output_type": "execute_result"
    }
   ],
   "source": [
    "A"
   ]
  },
  {
   "cell_type": "code",
   "execution_count": 6,
   "id": "1e091c40",
   "metadata": {},
   "outputs": [
    {
     "data": {
      "text/plain": [
       "29"
      ]
     },
     "execution_count": 6,
     "metadata": {},
     "output_type": "execute_result"
    }
   ],
   "source": [
    "np.trace(A)"
   ]
  },
  {
   "cell_type": "code",
   "execution_count": 7,
   "id": "f23e533f",
   "metadata": {},
   "outputs": [],
   "source": [
    "# top left to bottom right"
   ]
  },
  {
   "cell_type": "markdown",
   "id": "75a16d31",
   "metadata": {
    "id": "dUeQKrYMj3Zg"
   },
   "source": [
    "The trace operator has a number of useful properties that come in handy while rearranging linear algebra equations, e.g.:\n",
    "\n",
    "* Tr($A$) = Tr($A^T$)\n",
    "* Assuming the matrix shapes line up: Tr($ABC$) = Tr($CAB$) = Tr($BCA$)"
   ]
  },
  {
   "cell_type": "code",
   "execution_count": 8,
   "id": "9b3b21a2",
   "metadata": {},
   "outputs": [],
   "source": [
    "# trace of A is the same as teh trace of A.transpose"
   ]
  },
  {
   "cell_type": "markdown",
   "id": "bb77a629",
   "metadata": {
    "id": "kuKYTjskj3Zg"
   },
   "source": [
    "In particular, the trace operator can provide a convenient way to calculate a matrix's Frobenius norm: $$||A||_F = \\sqrt{\\mathrm{Tr}(AA^\\mathrm{T})}$$"
   ]
  },
  {
   "cell_type": "code",
   "execution_count": 9,
   "id": "59635f92",
   "metadata": {},
   "outputs": [],
   "source": [
    "# Frobenius norm -- matrix analog of the L2 norm"
   ]
  },
  {
   "cell_type": "markdown",
   "id": "4f7c10bd",
   "metadata": {},
   "source": [
    "***"
   ]
  },
  {
   "cell_type": "markdown",
   "id": "5f3ab5db",
   "metadata": {
    "id": "JcqTZnimj3Zg"
   },
   "source": [
    "**Exercises**\n",
    "\n",
    "With the matrix `A_p` provided below: \n",
    "\n",
    "1. Use the PyTorch trace method to calculate the trace of `A_p`.\n",
    "2. Use the PyTorch Frobenius norm method and the trace method to demonstrate that $||A||_F = \\sqrt{\\mathrm{Tr}(AA^\\mathrm{T})}$"
   ]
  },
  {
   "cell_type": "code",
   "execution_count": null,
   "id": "634a2638",
   "metadata": {},
   "outputs": [],
   "source": []
  }
 ],
 "metadata": {
  "kernelspec": {
   "display_name": "Python 3 (ipykernel)",
   "language": "python",
   "name": "python3"
  },
  "language_info": {
   "codemirror_mode": {
    "name": "ipython",
    "version": 3
   },
   "file_extension": ".py",
   "mimetype": "text/x-python",
   "name": "python",
   "nbconvert_exporter": "python",
   "pygments_lexer": "ipython3",
   "version": "3.9.12"
  }
 },
 "nbformat": 4,
 "nbformat_minor": 5
}
