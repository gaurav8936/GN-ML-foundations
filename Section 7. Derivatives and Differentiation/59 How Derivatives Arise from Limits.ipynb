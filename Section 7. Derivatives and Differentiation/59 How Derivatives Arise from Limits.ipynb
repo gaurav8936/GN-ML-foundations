{
 "cells": [
  {
   "cell_type": "markdown",
   "id": "4c4566b0",
   "metadata": {},
   "source": [
    "<font size = 8>How Derivitives Arise from Limits"
   ]
  },
  {
   "cell_type": "markdown",
   "id": "eb55a8a6",
   "metadata": {},
   "source": [
    "***"
   ]
  },
  {
   "cell_type": "markdown",
   "id": "6fe5b45a",
   "metadata": {},
   "source": [
    "## Libraries & Stuff"
   ]
  },
  {
   "cell_type": "code",
   "execution_count": 18,
   "id": "6a825863",
   "metadata": {},
   "outputs": [],
   "source": [
    "import numpy as np"
   ]
  },
  {
   "cell_type": "code",
   "execution_count": null,
   "id": "9766dce1",
   "metadata": {},
   "outputs": [],
   "source": [
    "import torch"
   ]
  },
  {
   "cell_type": "code",
   "execution_count": null,
   "id": "ae719c97",
   "metadata": {},
   "outputs": [],
   "source": [
    "import tensorflow as tf"
   ]
  },
  {
   "cell_type": "code",
   "execution_count": 19,
   "id": "9e9a6b59",
   "metadata": {},
   "outputs": [],
   "source": [
    "import matplotlib.pyplot as plt"
   ]
  },
  {
   "cell_type": "markdown",
   "id": "9952d680",
   "metadata": {},
   "source": [
    ".DS_Store files\n",
    "\n",
    "find .  -name \".DS_Store\" -depth -exec rm {} \\;"
   ]
  },
  {
   "cell_type": "code",
   "execution_count": 1,
   "id": "f21f44a9",
   "metadata": {},
   "outputs": [],
   "source": [
    "def plot_vectors(vectors, colors):\n",
    "    \"\"\"\n",
    "    Plot one or more vectors in a 2D plane, specifying a color for each. \n",
    "\n",
    "    Arguments\n",
    "    ---------\n",
    "    vectors: list of lists or of arrays\n",
    "        Coordinates of the vectors to plot. For example, [[1, 3], [2, 2]] \n",
    "        contains two vectors to plot, [1, 3] and [2, 2].\n",
    "    colors: list\n",
    "        Colors of the vectors. For instance: ['red', 'blue'] will display the\n",
    "        first vector in red and the second in blue.\n",
    "        \n",
    "    Example\n",
    "    -------\n",
    "    plot_vectors([[1, 3], [2, 2]], ['red', 'blue'])\n",
    "    plt.xlim(-1, 4)\n",
    "    plt.ylim(-1, 4)\n",
    "    \"\"\"\n",
    "    plt.figure()\n",
    "    plt.axvline(x=0, color='lightgray')\n",
    "    plt.axhline(y=0, color='lightgray')\n",
    "\n",
    "    for i in range(len(vectors)):\n",
    "        x = np.concatenate([[0,0],vectors[i]])\n",
    "        plt.quiver([x[0]], [x[1]], [x[2]], [x[3]],\n",
    "                   angles='xy', scale_units='xy', scale=1, color=colors[i],)"
   ]
  },
  {
   "cell_type": "code",
   "execution_count": 2,
   "id": "e3ac2ff2",
   "metadata": {},
   "outputs": [],
   "source": [
    "# function to convert column of matrix to 1D vector: \n",
    "def vectorfy(mtrx, clmn):\n",
    "    return np.array(mtrx[:,clmn]).reshape(-1)"
   ]
  },
  {
   "cell_type": "markdown",
   "id": "6667b867",
   "metadata": {},
   "source": [
    "***"
   ]
  },
  {
   "cell_type": "code",
   "execution_count": 21,
   "id": "81083efb",
   "metadata": {},
   "outputs": [],
   "source": [
    "x = np.linspace(-10, 10, 10000) # start, finish, n points"
   ]
  },
  {
   "cell_type": "markdown",
   "id": "9c239032",
   "metadata": {},
   "source": [
    "***"
   ]
  },
  {
   "cell_type": "markdown",
   "id": "8e2efae9",
   "metadata": {
    "id": "GJ7bRkBvcxar"
   },
   "source": [
    "**Exercise**: Using the delta method, find the slope of the tangent where $x = -1$."
   ]
  },
  {
   "cell_type": "code",
   "execution_count": 7,
   "id": "233f9c7a",
   "metadata": {},
   "outputs": [],
   "source": [
    "def f(my_x):\n",
    "    my_y = my_x**2 + 2*my_x + 2\n",
    "    return my_y"
   ]
  },
  {
   "cell_type": "code",
   "execution_count": 22,
   "id": "a31ba32a",
   "metadata": {},
   "outputs": [],
   "source": [
    "y = f(x)"
   ]
  },
  {
   "cell_type": "code",
   "execution_count": 4,
   "id": "c1cfc76a",
   "metadata": {},
   "outputs": [],
   "source": [
    "x1 = -1"
   ]
  },
  {
   "cell_type": "code",
   "execution_count": 8,
   "id": "b9b9ca42",
   "metadata": {},
   "outputs": [
    {
     "data": {
      "text/plain": [
       "1"
      ]
     },
     "execution_count": 8,
     "metadata": {},
     "output_type": "execute_result"
    }
   ],
   "source": [
    "y1 = f(x1)\n",
    "\n",
    "y1"
   ]
  },
  {
   "cell_type": "code",
   "execution_count": 10,
   "id": "3d4001c3",
   "metadata": {},
   "outputs": [
    {
     "data": {
      "text/plain": [
       "1e-06"
      ]
     },
     "execution_count": 10,
     "metadata": {},
     "output_type": "execute_result"
    }
   ],
   "source": [
    "delta_x = 0.000001\n",
    "delta_x"
   ]
  },
  {
   "cell_type": "code",
   "execution_count": 11,
   "id": "97a76b21",
   "metadata": {},
   "outputs": [
    {
     "data": {
      "text/plain": [
       "-0.999999"
      ]
     },
     "execution_count": 11,
     "metadata": {},
     "output_type": "execute_result"
    }
   ],
   "source": [
    "x2 = x1 + delta_x\n",
    "x2"
   ]
  },
  {
   "cell_type": "code",
   "execution_count": 12,
   "id": "1d80e4ce",
   "metadata": {},
   "outputs": [
    {
     "data": {
      "text/plain": [
       "1.000000000001"
      ]
     },
     "execution_count": 12,
     "metadata": {},
     "output_type": "execute_result"
    }
   ],
   "source": [
    "y2 = f(x2)\n",
    "y2"
   ]
  },
  {
   "cell_type": "code",
   "execution_count": 13,
   "id": "e60e0556",
   "metadata": {},
   "outputs": [
    {
     "data": {
      "text/plain": [
       "1.000000000001"
      ]
     },
     "execution_count": 13,
     "metadata": {},
     "output_type": "execute_result"
    }
   ],
   "source": [
    "y2 = f(x1 + delta_x)\n",
    "y2"
   ]
  },
  {
   "cell_type": "code",
   "execution_count": 14,
   "id": "50a57254",
   "metadata": {},
   "outputs": [
    {
     "data": {
      "text/plain": [
       "1.0000889005535828e-06"
      ]
     },
     "execution_count": 14,
     "metadata": {},
     "output_type": "execute_result"
    }
   ],
   "source": [
    "m = (y2-y1)/(x2-x1)\n",
    "m"
   ]
  },
  {
   "cell_type": "code",
   "execution_count": 15,
   "id": "c89decf7",
   "metadata": {},
   "outputs": [
    {
     "data": {
      "text/plain": [
       "1.0000010000889006"
      ]
     },
     "execution_count": 15,
     "metadata": {},
     "output_type": "execute_result"
    }
   ],
   "source": [
    "b = y2-m*x2\n",
    "b"
   ]
  },
  {
   "cell_type": "code",
   "execution_count": 16,
   "id": "0ada621b",
   "metadata": {},
   "outputs": [],
   "source": [
    "line_y = m*x + b"
   ]
  },
  {
   "cell_type": "code",
   "execution_count": 23,
   "id": "1829cb8d",
   "metadata": {},
   "outputs": [
    {
     "data": {
      "image/png": "[encoded data removed]",
      "text/plain": [
       "<Figure size 432x288 with 1 Axes>"
      ]
     },
     "metadata": {
      "needs_background": "light"
     },
     "output_type": "display_data"
    }
   ],
   "source": [
    "fig, ax = plt.subplots()\n",
    "plt.axvline(x=0, color='lightgray')\n",
    "plt.axhline(y=0, color='lightgray')\n",
    "plt.scatter(x1, y1)\n",
    "plt.scatter(x2, y2, c='orange', zorder=3)\n",
    "plt.ylim(-5, 150)\n",
    "plt.plot(x, line_y, c='orange', zorder=3)\n",
    "_ = ax.plot(x,y)"
   ]
  },
  {
   "cell_type": "markdown",
   "id": "5a4401e2",
   "metadata": {},
   "source": [
    "***"
   ]
  },
  {
   "cell_type": "code",
   "execution_count": 24,
   "id": "3c44bd48",
   "metadata": {},
   "outputs": [],
   "source": [
    "# let us derive from first principles the equation for differentiation"
   ]
  },
  {
   "cell_type": "markdown",
   "id": "23e38451",
   "metadata": {
    "id": "hqmMtmpGcxbA"
   },
   "source": [
    "As $Q$ becomes infinitely close to $P$:\n",
    "* $x_2$ - $x_1$ approaches 0\n",
    "* In other words, $\\Delta x$ approaches 0\n",
    "* This can be denoted as $\\Delta x \\to 0$"
   ]
  },
  {
   "cell_type": "markdown",
   "id": "741ffc0c",
   "metadata": {
    "id": "nsh_7o7kcxbA"
   },
   "source": [
    "Using the delta method, we've derived the definition of differentiation from first principles. The derivative of $y$ (denoted $dy$) with respect to $x$ (denoted $dx$) can be represented as: \n",
    "$$\\frac{dy}{dx} = \\lim_{\\Delta x \\to 0} \\frac{\\Delta y}{\\Delta x}$$"
   ]
  },
  {
   "cell_type": "code",
   "execution_count": 25,
   "id": "0b837c8d",
   "metadata": {},
   "outputs": [],
   "source": [
    "# the derivative of y is dy with respect to x "
   ]
  },
  {
   "cell_type": "code",
   "execution_count": 26,
   "id": "d6e837e6",
   "metadata": {},
   "outputs": [],
   "source": [
    "# dy/dx = lim(deltax approaches 0) delta y / delta x"
   ]
  },
  {
   "cell_type": "markdown",
   "id": "66a0a1c1",
   "metadata": {
    "id": "UxuWTEKlcxbA"
   },
   "source": [
    "Expanding $\\Delta y$ out to $y_2 - y_1$: \n",
    "$$\\frac{dy}{dx} = \\lim_{\\Delta x \\to 0} \\frac{y_2 - y_1}{\\Delta x}$$"
   ]
  },
  {
   "cell_type": "markdown",
   "id": "4b16f559",
   "metadata": {
    "id": "b0H4kFkYcxbB"
   },
   "source": [
    "Finally, replacing $y_1$ with $f(x)$ and replacing $y_2$ with $f(x + \\Delta x)$, we obtain a common representation of differentiation:\n",
    "$$\\frac{dy}{dx} = \\lim_{\\Delta x \\to 0} \\frac{f(x + \\Delta x) - f(x)}{\\Delta x}$$"
   ]
  },
  {
   "cell_type": "code",
   "execution_count": 27,
   "id": "8595a879",
   "metadata": {},
   "outputs": [],
   "source": [
    "# this is the most common representation of differentiation"
   ]
  },
  {
   "attachments": {
    "image.png": {
     "image/png": "[encoded data removed]"
    }
   },
   "cell_type": "markdown",
   "id": "f0b373df",
   "metadata": {},
   "source": [
    "![image.png](attachment:image.png)"
   ]
  },
  {
   "cell_type": "code",
   "execution_count": 28,
   "id": "2e47b114",
   "metadata": {},
   "outputs": [],
   "source": [
    "# Let's observe the differentiation equation in action: "
   ]
  },
  {
   "cell_type": "code",
   "execution_count": 29,
   "id": "566e78bf",
   "metadata": {},
   "outputs": [],
   "source": [
    "def diff_demo(my_f, my_x, my_delta):\n",
    "    return (my_f(my_x + my_delta) - my_f(my_x)) / my_delta"
   ]
  },
  {
   "cell_type": "code",
   "execution_count": 30,
   "id": "f8f8df37",
   "metadata": {},
   "outputs": [],
   "source": [
    "deltas = [1, 0.1, 0.01, 0.001, 0.0001, 0.00001, 0.000001]"
   ]
  },
  {
   "cell_type": "code",
   "execution_count": 31,
   "id": "96211c12",
   "metadata": {},
   "outputs": [
    {
     "name": "stdout",
     "output_type": "stream",
     "text": [
      "7.0\n",
      "6.099999999999994\n",
      "6.009999999999849\n",
      "6.000999999999479\n",
      "6.000100000012054\n",
      "6.000009999951316\n",
      "6.000001000927568\n"
     ]
    }
   ],
   "source": [
    "for delta in deltas:\n",
    "    print(diff_demo(f, 2, delta))"
   ]
  },
  {
   "cell_type": "code",
   "execution_count": 32,
   "id": "19b6dac0",
   "metadata": {},
   "outputs": [],
   "source": [
    "# remember we are solving for the slope where x = 2"
   ]
  },
  {
   "cell_type": "code",
   "execution_count": 33,
   "id": "2081db26",
   "metadata": {},
   "outputs": [],
   "source": [
    "# as delta gets smaller and approaches 0, the slope converges to its true value\n",
    "\n",
    "# thsu the estimate of the slope gets more accurate"
   ]
  },
  {
   "cell_type": "code",
   "execution_count": null,
   "id": "45f9b067",
   "metadata": {},
   "outputs": [],
   "source": []
  }
 ],
 "metadata": {
  "kernelspec": {
   "display_name": "Python 3 (ipykernel)",
   "language": "python",
   "name": "python3"
  },
  "language_info": {
   "codemirror_mode": {
    "name": "ipython",
    "version": 3
   },
   "file_extension": ".py",
   "mimetype": "text/x-python",
   "name": "python",
   "nbconvert_exporter": "python",
   "pygments_lexer": "ipython3",
   "version": "3.9.12"
  }
 },
 "nbformat": 4,
 "nbformat_minor": 5
}
