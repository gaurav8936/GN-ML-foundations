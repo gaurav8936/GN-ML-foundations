{
 "cells": [
  {
   "cell_type": "markdown",
   "id": "4c4566b0",
   "metadata": {},
   "source": [
    "<font size = 8> Congratulations"
   ]
  },
  {
   "cell_type": "markdown",
   "id": "eb55a8a6",
   "metadata": {},
   "source": [
    "***"
   ]
  },
  {
   "cell_type": "markdown",
   "id": "6fe5b45a",
   "metadata": {},
   "source": [
    "## Libraries & Stuff"
   ]
  },
  {
   "cell_type": "code",
   "execution_count": null,
   "id": "6a825863",
   "metadata": {},
   "outputs": [],
   "source": [
    "import numpy as np"
   ]
  },
  {
   "cell_type": "code",
   "execution_count": null,
   "id": "9766dce1",
   "metadata": {},
   "outputs": [],
   "source": [
    "import torch"
   ]
  },
  {
   "cell_type": "code",
   "execution_count": null,
   "id": "ae719c97",
   "metadata": {},
   "outputs": [],
   "source": [
    "import tensorflow as tf"
   ]
  },
  {
   "cell_type": "code",
   "execution_count": null,
   "id": "9e9a6b59",
   "metadata": {},
   "outputs": [],
   "source": [
    "import matplotlib.pyplot as plt"
   ]
  },
  {
   "cell_type": "code",
   "execution_count": null,
   "id": "d5b13378",
   "metadata": {},
   "outputs": [],
   "source": [
    "import math # for constant pi"
   ]
  },
  {
   "cell_type": "code",
   "execution_count": null,
   "id": "eefe4822",
   "metadata": {},
   "outputs": [],
   "source": [
    "from scipy.integrate import quad # \"quadrature\" = numerical integration \n",
    "# (as opposed to symbolic)"
   ]
  },
  {
   "cell_type": "code",
   "execution_count": null,
   "id": "938fc90e",
   "metadata": {},
   "outputs": [],
   "source": [
    "from sklearn.metrics import auc"
   ]
  },
  {
   "cell_type": "markdown",
   "id": "3cbc16a7",
   "metadata": {},
   "source": [
    ".DS_Store files"
   ]
  },
  {
   "cell_type": "markdown",
   "id": "9952d680",
   "metadata": {},
   "source": [
    "find .  -name \".DS_Store\" -depth -exec rm {} \\;"
   ]
  },
  {
   "cell_type": "markdown",
   "id": "6667b867",
   "metadata": {},
   "source": [
    "***"
   ]
  },
  {
   "cell_type": "markdown",
   "id": "d4c98ab3",
   "metadata": {},
   "source": [
    "# Remaining Subjects for ML Foundation"
   ]
  },
  {
   "cell_type": "code",
   "execution_count": null,
   "id": "25aeffbe",
   "metadata": {},
   "outputs": [],
   "source": [
    "# probability\n",
    "\n",
    "# statistics\n",
    "\n",
    "# data structures\n",
    "\n",
    "# algorithms\n",
    "\n",
    "# optimization"
   ]
  }
 ],
 "metadata": {
  "kernelspec": {
   "display_name": "Python 3 (ipykernel)",
   "language": "python",
   "name": "python3"
  },
  "language_info": {
   "codemirror_mode": {
    "name": "ipython",
    "version": 3
   },
   "file_extension": ".py",
   "mimetype": "text/x-python",
   "name": "python",
   "nbconvert_exporter": "python",
   "pygments_lexer": "ipython3",
   "version": "3.9.12"
  }
 },
 "nbformat": 4,
 "nbformat_minor": 5
}
