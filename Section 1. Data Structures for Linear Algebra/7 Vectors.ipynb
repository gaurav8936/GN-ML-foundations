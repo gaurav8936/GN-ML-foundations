{
 "cells": [
  {
   "cell_type": "markdown",
   "id": "ce62705e",
   "metadata": {},
   "source": [
    "<font size = 8> Vectors"
   ]
  },
  {
   "cell_type": "markdown",
   "id": "28cca387",
   "metadata": {},
   "source": [
    "***"
   ]
  },
  {
   "cell_type": "markdown",
   "id": "4231ae28",
   "metadata": {},
   "source": [
    "# Vectors (Rank1 Tensors) in Numpy"
   ]
  },
  {
   "cell_type": "markdown",
   "id": "47caa76f",
   "metadata": {},
   "source": [
    "***"
   ]
  },
  {
   "cell_type": "code",
   "execution_count": 1,
   "id": "7f69f9c5",
   "metadata": {},
   "outputs": [],
   "source": [
    "import numpy as np"
   ]
  },
  {
   "cell_type": "code",
   "execution_count": 2,
   "id": "509837c8",
   "metadata": {
    "colab": {
     "base_uri": "https://localhost:8080/"
    },
    "id": "T9ME4kBr4wg0",
    "outputId": "0427e5a2-7aec-42b3-9639-76781a810269"
   },
   "outputs": [
    {
     "data": {
      "text/plain": [
       "array([25,  2,  5])"
      ]
     },
     "execution_count": 2,
     "metadata": {},
     "output_type": "execute_result"
    }
   ],
   "source": [
    "# Use Numpy array method\n",
    "# we specify scalar values in the array[]\n",
    "\n",
    "x = np.array([25, 2, 5]) # type argument is optional, e.g.: dtype=np.float16\n",
    "\n",
    "x"
   ]
  },
  {
   "cell_type": "code",
   "execution_count": 3,
   "id": "faeeeb28",
   "metadata": {
    "colab": {
     "base_uri": "https://localhost:8080/"
    },
    "id": "ZuotxmlZL2wp",
    "outputId": "7ad14523-4836-4264-f5dd-1eac3f4ea0f6"
   },
   "outputs": [
    {
     "data": {
      "text/plain": [
       "3"
      ]
     },
     "execution_count": 3,
     "metadata": {},
     "output_type": "execute_result"
    }
   ],
   "source": [
    "len(x)"
   ]
  },
  {
   "cell_type": "code",
   "execution_count": 4,
   "id": "9c5727e4",
   "metadata": {
    "colab": {
     "base_uri": "https://localhost:8080/"
    },
    "id": "OlPYy6GOaIVy",
    "outputId": "4d2542ab-852b-4492-d2b3-3646b84b76c4"
   },
   "outputs": [
    {
     "data": {
      "text/plain": [
       "(3,)"
      ]
     },
     "execution_count": 4,
     "metadata": {},
     "output_type": "execute_result"
    }
   ],
   "source": [
    "x.shape"
   ]
  },
  {
   "cell_type": "code",
   "execution_count": 5,
   "id": "9b37f802",
   "metadata": {
    "colab": {
     "base_uri": "https://localhost:8080/"
    },
    "id": "sWbYGwObcgtK",
    "outputId": "4b40a041-41a8-4144-cb93-2952a877ae3b"
   },
   "outputs": [
    {
     "data": {
      "text/plain": [
       "numpy.ndarray"
      ]
     },
     "execution_count": 5,
     "metadata": {},
     "output_type": "execute_result"
    }
   ],
   "source": [
    "type(x)"
   ]
  },
  {
   "cell_type": "code",
   "execution_count": 6,
   "id": "e4bf4ecb",
   "metadata": {
    "colab": {
     "base_uri": "https://localhost:8080/"
    },
    "id": "ME_xuvD_oTPg",
    "outputId": "370f2917-7fa1-4e2a-b677-aec1e872fa73"
   },
   "outputs": [
    {
     "data": {
      "text/plain": [
       "25"
      ]
     },
     "execution_count": 6,
     "metadata": {},
     "output_type": "execute_result"
    }
   ],
   "source": [
    "x[0] # zero-indexed"
   ]
  },
  {
   "cell_type": "code",
   "execution_count": 7,
   "id": "71a247dc",
   "metadata": {},
   "outputs": [
    {
     "data": {
      "text/plain": [
       "2"
      ]
     },
     "execution_count": 7,
     "metadata": {},
     "output_type": "execute_result"
    }
   ],
   "source": [
    "x[1]"
   ]
  },
  {
   "cell_type": "code",
   "execution_count": 8,
   "id": "c750e733",
   "metadata": {},
   "outputs": [
    {
     "data": {
      "text/plain": [
       "5"
      ]
     },
     "execution_count": 8,
     "metadata": {},
     "output_type": "execute_result"
    }
   ],
   "source": [
    "x[2]"
   ]
  },
  {
   "cell_type": "code",
   "execution_count": 9,
   "id": "ee72e4b0",
   "metadata": {
    "colab": {
     "base_uri": "https://localhost:8080/"
    },
    "id": "hXmBHZQ-nxFw",
    "outputId": "38259df1-d6b6-4d4a-c817-39233412aa2a"
   },
   "outputs": [
    {
     "data": {
      "text/plain": [
       "numpy.int64"
      ]
     },
     "execution_count": 9,
     "metadata": {},
     "output_type": "execute_result"
    }
   ],
   "source": [
    "type(x[0])\n",
    "\n",
    "# you could have also optionally created these as 16 bit floats\n",
    "# default is 64 bit integers"
   ]
  },
  {
   "cell_type": "markdown",
   "id": "aa09de08",
   "metadata": {},
   "source": [
    "***"
   ]
  },
  {
   "cell_type": "markdown",
   "id": "4f6a3e37",
   "metadata": {
    "id": "NiEofCzYZBrQ"
   },
   "source": [
    "# Vector Transposition"
   ]
  },
  {
   "cell_type": "markdown",
   "id": "00bce998",
   "metadata": {},
   "source": [
    "***"
   ]
  },
  {
   "cell_type": "code",
   "execution_count": 10,
   "id": "fb2e20bd",
   "metadata": {
    "colab": {
     "base_uri": "https://localhost:8080/"
    },
    "id": "hxGFNDx6V95l",
    "outputId": "14ef9f1c-cec1-4b49-f950-d0386a56d187"
   },
   "outputs": [
    {
     "data": {
      "text/plain": [
       "array([25,  2,  5])"
      ]
     },
     "execution_count": 10,
     "metadata": {},
     "output_type": "execute_result"
    }
   ],
   "source": [
    "# Transposing a regular 1-D array has no effect...\n",
    "# the .T will do the trick\n",
    "\n",
    "x_t = x.T\n",
    "\n",
    "x_t\n",
    "\n",
    "# it appears to have the same shape as x did\n",
    "\n",
    "# that is because this is a 1 dimentional array and there is no second dimention to be \n",
    "# trasnposed into"
   ]
  },
  {
   "cell_type": "code",
   "execution_count": 11,
   "id": "59b11707",
   "metadata": {
    "colab": {
     "base_uri": "https://localhost:8080/"
    },
    "id": "_f8E9ExDWw4p",
    "outputId": "60355580-5b02-4c2b-e6a3-3e97bbd52f40"
   },
   "outputs": [
    {
     "data": {
      "text/plain": [
       "(3,)"
      ]
     },
     "execution_count": 11,
     "metadata": {},
     "output_type": "execute_result"
    }
   ],
   "source": [
    "x_t.shape"
   ]
  },
  {
   "cell_type": "code",
   "execution_count": 12,
   "id": "c8c4fe73",
   "metadata": {
    "colab": {
     "base_uri": "https://localhost:8080/"
    },
    "id": "AEd8jB7YcgtT",
    "outputId": "9bc94f07-0ed4-4fbd-af11-678c736de291"
   },
   "outputs": [
    {
     "data": {
      "text/plain": [
       "array([[25,  2,  5]])"
      ]
     },
     "execution_count": 12,
     "metadata": {},
     "output_type": "execute_result"
    }
   ],
   "source": [
    "# ...but it does we use nested \"matrix-style\" brackets: \n",
    "\n",
    "# the nested brackets indicate two dimensions\n",
    "\n",
    "y = np.array([[25, 2, 5]])\n",
    "\n",
    "y"
   ]
  },
  {
   "cell_type": "code",
   "execution_count": 13,
   "id": "30161378",
   "metadata": {
    "colab": {
     "base_uri": "https://localhost:8080/"
    },
    "id": "UHQd92oRcgtV",
    "outputId": "8f2c90c8-85ba-448b-f896-6ea1064c3acd"
   },
   "outputs": [
    {
     "data": {
      "text/plain": [
       "(1, 3)"
      ]
     },
     "execution_count": 13,
     "metadata": {},
     "output_type": "execute_result"
    }
   ],
   "source": [
    "y.shape"
   ]
  },
  {
   "cell_type": "code",
   "execution_count": null,
   "id": "6634507d",
   "metadata": {},
   "outputs": [],
   "source": [
    "## this shows 1 row and 3 columns"
   ]
  },
  {
   "cell_type": "code",
   "execution_count": 14,
   "id": "72207603",
   "metadata": {
    "colab": {
     "base_uri": "https://localhost:8080/"
    },
    "id": "SPi1JqGEXXUc",
    "outputId": "8ea99134-6e56-4c55-f1fe-ab860c91cea5"
   },
   "outputs": [
    {
     "data": {
      "text/plain": [
       "array([[25],\n",
       "       [ 2],\n",
       "       [ 5]])"
      ]
     },
     "execution_count": 14,
     "metadata": {},
     "output_type": "execute_result"
    }
   ],
   "source": [
    "# ...but can transpose a matrix with a dimension of length 1, \n",
    "# which is mathematically equivalent: \n",
    "y_t = y.T\n",
    "\n",
    "y_t"
   ]
  },
  {
   "cell_type": "code",
   "execution_count": 15,
   "id": "475246a4",
   "metadata": {
    "colab": {
     "base_uri": "https://localhost:8080/"
    },
    "id": "6rzUv762Yjis",
    "outputId": "c344764d-d957-4172-a043-4826273144a3"
   },
   "outputs": [
    {
     "data": {
      "text/plain": [
       "(3, 1)"
      ]
     },
     "execution_count": 15,
     "metadata": {},
     "output_type": "execute_result"
    }
   ],
   "source": [
    "y_t.shape # this is a column vector as it has 3 rows and 1 column"
   ]
  },
  {
   "cell_type": "code",
   "execution_count": 29,
   "id": "02e23abf",
   "metadata": {},
   "outputs": [],
   "source": [
    "# now this has 3 rows and 1 column"
   ]
  },
  {
   "cell_type": "markdown",
   "id": "f4c4d31d",
   "metadata": {},
   "source": [
    "***"
   ]
  },
  {
   "cell_type": "code",
   "execution_count": 30,
   "id": "a560d340",
   "metadata": {},
   "outputs": [],
   "source": [
    "# transposing it back to the original row vector"
   ]
  },
  {
   "cell_type": "code",
   "execution_count": 16,
   "id": "893ff1cc",
   "metadata": {
    "colab": {
     "base_uri": "https://localhost:8080/"
    },
    "id": "xVnQMLOrYtra",
    "outputId": "62dd6b7b-5821-4165-94a4-92936076b9ca"
   },
   "outputs": [
    {
     "data": {
      "text/plain": [
       "array([[25,  2,  5]])"
      ]
     },
     "execution_count": 16,
     "metadata": {},
     "output_type": "execute_result"
    }
   ],
   "source": [
    "# Column vector can be transposed back to original row vector: \n",
    "y_t.T "
   ]
  },
  {
   "cell_type": "code",
   "execution_count": 17,
   "id": "22456aa4",
   "metadata": {
    "colab": {
     "base_uri": "https://localhost:8080/"
    },
    "id": "QIAA2NLRZIXC",
    "outputId": "118db1bc-51fa-413f-bfa0-bf6c703195de"
   },
   "outputs": [
    {
     "data": {
      "text/plain": [
       "(1, 3)"
      ]
     },
     "execution_count": 17,
     "metadata": {},
     "output_type": "execute_result"
    }
   ],
   "source": [
    "y_t.T.shape"
   ]
  },
  {
   "cell_type": "markdown",
   "id": "be267a8f",
   "metadata": {},
   "source": [
    "***"
   ]
  },
  {
   "cell_type": "markdown",
   "id": "4dd77b99",
   "metadata": {
    "id": "Voj26mSpZLuh"
   },
   "source": [
    "# Zero Vectors"
   ]
  },
  {
   "cell_type": "markdown",
   "id": "005496c5",
   "metadata": {},
   "source": [
    "***"
   ]
  },
  {
   "cell_type": "code",
   "execution_count": 18,
   "id": "b75acb89",
   "metadata": {
    "colab": {
     "base_uri": "https://localhost:8080/"
    },
    "id": "-46AbOdkZVn_",
    "outputId": "a54065f8-9401-4f5c-f71b-9066b3576229"
   },
   "outputs": [
    {
     "data": {
      "text/plain": [
       "array([0., 0., 0.])"
      ]
     },
     "execution_count": 18,
     "metadata": {},
     "output_type": "execute_result"
    }
   ],
   "source": [
    "# These are contained entirely of 0s\n",
    "# created by the np.zeros method\n",
    "\n",
    "z = np.zeros(3) \n",
    "\n",
    "z"
   ]
  },
  {
   "cell_type": "markdown",
   "id": "80ba0a15",
   "metadata": {},
   "source": [
    "***"
   ]
  },
  {
   "cell_type": "markdown",
   "id": "36f75468",
   "metadata": {
    "id": "c6xyYiwSnSGC"
   },
   "source": [
    "# Vectors in PyTorch"
   ]
  },
  {
   "cell_type": "code",
   "execution_count": 1,
   "id": "1fc7edf1",
   "metadata": {},
   "outputs": [],
   "source": [
    "import torch"
   ]
  },
  {
   "cell_type": "code",
   "execution_count": 2,
   "id": "a7590899",
   "metadata": {
    "colab": {
     "base_uri": "https://localhost:8080/"
    },
    "id": "s2TGDeqXnitZ",
    "outputId": "16834643-209d-4587-b331-4e291327c1ab"
   },
   "outputs": [
    {
     "data": {
      "text/plain": [
       "tensor([25,  2,  5])"
      ]
     },
     "execution_count": 2,
     "metadata": {},
     "output_type": "execute_result"
    }
   ],
   "source": [
    "x_pt = torch.tensor([25, 2, 5])\n",
    "\n",
    "x_pt"
   ]
  },
  {
   "cell_type": "markdown",
   "id": "e51723fd",
   "metadata": {},
   "source": [
    "***"
   ]
  },
  {
   "cell_type": "markdown",
   "id": "a5c9e638",
   "metadata": {},
   "source": [
    "# Vectors in TensorFlow"
   ]
  },
  {
   "cell_type": "markdown",
   "id": "923d88c2",
   "metadata": {},
   "source": [
    "***"
   ]
  },
  {
   "cell_type": "code",
   "execution_count": 3,
   "id": "d3f4d237",
   "metadata": {},
   "outputs": [],
   "source": [
    "import tensorflow as tf"
   ]
  },
  {
   "cell_type": "code",
   "execution_count": 5,
   "id": "f0cd8005",
   "metadata": {
    "colab": {
     "base_uri": "https://localhost:8080/"
    },
    "id": "-0jbHgc5iijG",
    "outputId": "ca7b46a8-cd76-4dff-f794-8962157f977f",
    "scrolled": false
   },
   "outputs": [
    {
     "data": {
      "text/plain": [
       "<tf.Variable 'Variable:0' shape=(3,) dtype=int32, numpy=array([25,  2,  5], dtype=int32)>"
      ]
     },
     "execution_count": 5,
     "metadata": {},
     "output_type": "execute_result"
    }
   ],
   "source": [
    "x_tf = tf.Variable([25, 2, 5])\n",
    "x_tf"
   ]
  },
  {
   "cell_type": "code",
   "execution_count": null,
   "id": "c059aad0",
   "metadata": {},
   "outputs": [],
   "source": []
  }
 ],
 "metadata": {
  "kernelspec": {
   "display_name": "Python 3 (ipykernel)",
   "language": "python",
   "name": "python3"
  },
  "language_info": {
   "codemirror_mode": {
    "name": "ipython",
    "version": 3
   },
   "file_extension": ".py",
   "mimetype": "text/x-python",
   "name": "python",
   "nbconvert_exporter": "python",
   "pygments_lexer": "ipython3",
   "version": "3.9.12"
  }
 },
 "nbformat": 4,
 "nbformat_minor": 5
}
