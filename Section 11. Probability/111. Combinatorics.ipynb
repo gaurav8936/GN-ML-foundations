{
 "cells": [
  {
   "cell_type": "markdown",
   "id": "4c4566b0",
   "metadata": {},
   "source": [
    "<font size = 8> Combinatorics"
   ]
  },
  {
   "cell_type": "markdown",
   "id": "eb55a8a6",
   "metadata": {},
   "source": [
    "***"
   ]
  },
  {
   "cell_type": "markdown",
   "id": "6fe5b45a",
   "metadata": {},
   "source": [
    "## Libraries & Stuff"
   ]
  },
  {
   "cell_type": "code",
   "execution_count": null,
   "id": "6a825863",
   "metadata": {},
   "outputs": [],
   "source": [
    "import numpy as np"
   ]
  },
  {
   "cell_type": "code",
   "execution_count": null,
   "id": "9766dce1",
   "metadata": {},
   "outputs": [],
   "source": [
    "import torch"
   ]
  },
  {
   "cell_type": "code",
   "execution_count": null,
   "id": "ae719c97",
   "metadata": {},
   "outputs": [],
   "source": [
    "import tensorflow as tf"
   ]
  },
  {
   "cell_type": "code",
   "execution_count": null,
   "id": "9e9a6b59",
   "metadata": {},
   "outputs": [],
   "source": [
    "import matplotlib.pyplot as plt"
   ]
  },
  {
   "cell_type": "code",
   "execution_count": null,
   "id": "d5b13378",
   "metadata": {},
   "outputs": [],
   "source": [
    "import math # for constant pi"
   ]
  },
  {
   "cell_type": "code",
   "execution_count": null,
   "id": "eefe4822",
   "metadata": {},
   "outputs": [],
   "source": [
    "from scipy.integrate import quad # \"quadrature\" = numerical integration"
   ]
  },
  {
   "cell_type": "code",
   "execution_count": 1,
   "id": "1f55d095",
   "metadata": {},
   "outputs": [],
   "source": [
    "import scipy.stats as st"
   ]
  },
  {
   "cell_type": "code",
   "execution_count": 2,
   "id": "2772bb32",
   "metadata": {},
   "outputs": [],
   "source": [
    "import seaborn as sns"
   ]
  },
  {
   "cell_type": "code",
   "execution_count": null,
   "id": "938fc90e",
   "metadata": {},
   "outputs": [],
   "source": [
    "from sklearn.metrics import auc"
   ]
  },
  {
   "cell_type": "markdown",
   "id": "3cbc16a7",
   "metadata": {},
   "source": [
    ".DS_Store files"
   ]
  },
  {
   "cell_type": "markdown",
   "id": "9952d680",
   "metadata": {},
   "source": [
    "find .  -name \".DS_Store\" -depth -exec rm {} \\;"
   ]
  },
  {
   "cell_type": "markdown",
   "id": "6667b867",
   "metadata": {},
   "source": [
    "***"
   ]
  },
  {
   "cell_type": "markdown",
   "id": "337f203e",
   "metadata": {},
   "source": [
    "# field of math dedicated to counting"
   ]
  },
  {
   "cell_type": "markdown",
   "id": "568b1035",
   "metadata": {
    "id": "1ckSVU3p5ChM"
   },
   "source": [
    "*Combinatorics* is a field of mathematics devoted to counting that can be helpful to studying probabilities. We can use **factorials** (e.g., $4! = 4 \\times 3 \\times 2 \\times 1 = 24$), which feature prominently in combinatorics, to calculate probabilities instead of painstakingly determining all of the members of the sample space $\\Omega$ and counting subsets within $\\Omega$. "
   ]
  },
  {
   "cell_type": "code",
   "execution_count": 2,
   "id": "c73fecc9",
   "metadata": {},
   "outputs": [],
   "source": [
    "# factorials 4! = 4*3*2*1"
   ]
  },
  {
   "cell_type": "code",
   "execution_count": 3,
   "id": "e4e4fd6d",
   "metadata": {},
   "outputs": [],
   "source": [
    "# helps determine the sample space omega"
   ]
  },
  {
   "cell_type": "markdown",
   "id": "0b3e41f9",
   "metadata": {
    "id": "zYL4ODP75ChN"
   },
   "source": [
    "More specifically, we can calculate the number of outcomes of an event using the \"number of combinations\" equation: $$ {n \\choose k} = \\frac{n!}{k!(n - k)!} $$"
   ]
  },
  {
   "cell_type": "code",
   "execution_count": 4,
   "id": "a00cb0bc",
   "metadata": {},
   "outputs": [],
   "source": [
    "# n choose k"
   ]
  },
  {
   "cell_type": "markdown",
   "id": "b1fc9243",
   "metadata": {
    "id": "kQhpdNEL5ChN"
   },
   "source": [
    "The left-hand side of the equation is read \"$n$ choose $k$\" and is most quickly understood via an example: If we have three coin flips, $n = 3$, and if we're interested in the number of ways to get two head flips (or two tail flips, for that matter), $k = 2$. We would read this as \"3 choose 2\" and calculate it as:\n",
    "$$ {n \\choose k} = {3 \\choose 2} = \\frac{3!}{2!(3 - 2)!} = \\frac{3!}{(2!)(1!)} = \\frac{3 \\times 2 \\times 1}{(2 \\times 1)(1)} = \\frac{6}{(2)(1)} = \\frac{6}{2} = 3 $$"
   ]
  },
  {
   "cell_type": "code",
   "execution_count": 5,
   "id": "21d1f09e",
   "metadata": {},
   "outputs": [],
   "source": [
    "# 3 coin flips = n\n",
    "\n",
    "# 2 getting 2 heads = k"
   ]
  },
  {
   "cell_type": "code",
   "execution_count": 6,
   "id": "8a22687d",
   "metadata": {},
   "outputs": [],
   "source": [
    "# 3! / 2! X (3-2)!"
   ]
  },
  {
   "cell_type": "code",
   "execution_count": 7,
   "id": "1d564cf5",
   "metadata": {},
   "outputs": [],
   "source": [
    "# this is the number of outcomes where we get exactly 2 heads or 2 tails"
   ]
  },
  {
   "cell_type": "markdown",
   "id": "cdf85700",
   "metadata": {
    "id": "PoPfNW275ChN"
   },
   "source": [
    "This provide us with the numerator for event-probability equation from above: $$ P(\\text{event}) = \\frac{\\text{# of outcomes of event}}{\\text{# of outcomes in }\\Omega} $$"
   ]
  },
  {
   "cell_type": "markdown",
   "id": "ecf06b59",
   "metadata": {
    "id": "ThoyCpl35ChO"
   },
   "source": [
    "In the case of coin-flipping (or any binary process with equally probable outcomes), the denominator can be calculated with $2^n$ (where $n$ is again the number of coin flips), so: $$ \\frac{\\text{# of outcomes of event}}{\\text{# of outcomes in }\\Omega} = \\frac{3}{2^n} = \\frac{3}{2^3} = \\frac{3}{8} = 0.375 $$"
   ]
  },
  {
   "cell_type": "code",
   "execution_count": 8,
   "id": "eb1c4083",
   "metadata": {},
   "outputs": [],
   "source": [
    "# total number of outcomes in a binary process with equally probable outcomes\n",
    "\n",
    "# 2**n\n",
    "\n",
    "# 2**3 = 8"
   ]
  },
  {
   "cell_type": "code",
   "execution_count": null,
   "id": "3b7bd3fc",
   "metadata": {},
   "outputs": [],
   "source": []
  },
  {
   "cell_type": "code",
   "execution_count": null,
   "id": "b80e9d7e",
   "metadata": {},
   "outputs": [],
   "source": []
  },
  {
   "cell_type": "code",
   "execution_count": null,
   "id": "fa9e2125",
   "metadata": {},
   "outputs": [],
   "source": []
  },
  {
   "cell_type": "code",
   "execution_count": null,
   "id": "ce925591",
   "metadata": {},
   "outputs": [],
   "source": []
  },
  {
   "cell_type": "code",
   "execution_count": null,
   "id": "5ee3a55e",
   "metadata": {},
   "outputs": [],
   "source": []
  },
  {
   "cell_type": "code",
   "execution_count": null,
   "id": "3af396a9",
   "metadata": {},
   "outputs": [],
   "source": []
  },
  {
   "cell_type": "code",
   "execution_count": null,
   "id": "114c3bde",
   "metadata": {},
   "outputs": [],
   "source": []
  }
 ],
 "metadata": {
  "kernelspec": {
   "display_name": "Python 3 (ipykernel)",
   "language": "python",
   "name": "python3"
  },
  "language_info": {
   "codemirror_mode": {
    "name": "ipython",
    "version": 3
   },
   "file_extension": ".py",
   "mimetype": "text/x-python",
   "name": "python",
   "nbconvert_exporter": "python",
   "pygments_lexer": "ipython3",
   "version": "3.9.12"
  }
 },
 "nbformat": 4,
 "nbformat_minor": 5
}
