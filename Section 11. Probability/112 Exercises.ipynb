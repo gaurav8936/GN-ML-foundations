{
 "cells": [
  {
   "cell_type": "markdown",
   "id": "4c4566b0",
   "metadata": {},
   "source": [
    "<font size = 8> Exercises"
   ]
  },
  {
   "cell_type": "markdown",
   "id": "eb55a8a6",
   "metadata": {},
   "source": [
    "***"
   ]
  },
  {
   "cell_type": "markdown",
   "id": "6fe5b45a",
   "metadata": {},
   "source": [
    "## Libraries & Stuff"
   ]
  },
  {
   "cell_type": "code",
   "execution_count": null,
   "id": "6a825863",
   "metadata": {},
   "outputs": [],
   "source": [
    "import numpy as np"
   ]
  },
  {
   "cell_type": "code",
   "execution_count": null,
   "id": "9766dce1",
   "metadata": {},
   "outputs": [],
   "source": [
    "import torch"
   ]
  },
  {
   "cell_type": "code",
   "execution_count": null,
   "id": "ae719c97",
   "metadata": {},
   "outputs": [],
   "source": [
    "import tensorflow as tf"
   ]
  },
  {
   "cell_type": "code",
   "execution_count": null,
   "id": "9e9a6b59",
   "metadata": {},
   "outputs": [],
   "source": [
    "import matplotlib.pyplot as plt"
   ]
  },
  {
   "cell_type": "code",
   "execution_count": null,
   "id": "d5b13378",
   "metadata": {},
   "outputs": [],
   "source": [
    "import math # for constant pi"
   ]
  },
  {
   "cell_type": "code",
   "execution_count": 6,
   "id": "dc374f96",
   "metadata": {},
   "outputs": [],
   "source": [
    "from math import factorial"
   ]
  },
  {
   "cell_type": "code",
   "execution_count": null,
   "id": "eefe4822",
   "metadata": {},
   "outputs": [],
   "source": [
    "from scipy.integrate import quad # \"quadrature\" = numerical integration"
   ]
  },
  {
   "cell_type": "code",
   "execution_count": 1,
   "id": "1f55d095",
   "metadata": {},
   "outputs": [],
   "source": [
    "import scipy.stats as st"
   ]
  },
  {
   "cell_type": "code",
   "execution_count": 2,
   "id": "2772bb32",
   "metadata": {},
   "outputs": [],
   "source": [
    "import seaborn as sns"
   ]
  },
  {
   "cell_type": "code",
   "execution_count": null,
   "id": "938fc90e",
   "metadata": {},
   "outputs": [],
   "source": [
    "from sklearn.metrics import auc"
   ]
  },
  {
   "cell_type": "markdown",
   "id": "3cbc16a7",
   "metadata": {},
   "source": [
    ".DS_Store files"
   ]
  },
  {
   "cell_type": "markdown",
   "id": "9952d680",
   "metadata": {},
   "source": [
    "find .  -name \".DS_Store\" -depth -exec rm {} \\;"
   ]
  },
  {
   "cell_type": "markdown",
   "id": "6667b867",
   "metadata": {},
   "source": [
    "***"
   ]
  },
  {
   "cell_type": "markdown",
   "id": "b579cd8d",
   "metadata": {
    "id": "QKRugWrQ5ChO"
   },
   "source": [
    "**Exercises**:\n",
    "\n",
    "1. What is the probability of drawing the ace of spades twice in a row? (Assume that any card drawn on the first draw will be put back in the deck before the second draw.)\n",
    "2. You draw a card from a deck of cards. After replacing the drawn card back in the deck and shuffling thoroughly, what is the probability of drawing the same card again? \n",
    "3. Use $n \\choose k$ to calculate the probability of throwing three heads in five coin tosses.\n",
    "4. Create a Python method that solves exercise 3 and incorporates the $n \\choose k$ formula $\\frac{n!}{k!(n - k)!}$. With the method in hand, calculate the probability of -- in five tosses -- throwing each of zero, one, two, three, four, and five heads."
   ]
  },
  {
   "cell_type": "markdown",
   "id": "c5202f7e",
   "metadata": {},
   "source": [
    "***"
   ]
  },
  {
   "cell_type": "markdown",
   "id": "c783a179",
   "metadata": {},
   "source": [
    "What is the probability of drawing the ace of spades twice in a row? (Assume that any card drawn on the first draw will be put back in the deck before the second draw.)"
   ]
  },
  {
   "cell_type": "markdown",
   "id": "5eb25b48",
   "metadata": {
    "id": "qiSjQ1mR5ChP"
   },
   "source": [
    "1. $$ P(\\text{ace of spades}) \\times P(\\text{ace of spades}) = \\left(\\frac{1}{52}\\right)^2 = \\frac{1}{2704} = 0.00037 = 0.037\\% $$"
   ]
  },
  {
   "cell_type": "code",
   "execution_count": 1,
   "id": "3e5277a3",
   "metadata": {},
   "outputs": [],
   "source": [
    "# multiplying probabilities"
   ]
  },
  {
   "cell_type": "markdown",
   "id": "24b396e4",
   "metadata": {},
   "source": [
    "***"
   ]
  },
  {
   "cell_type": "markdown",
   "id": "479e2058",
   "metadata": {},
   "source": [
    "You draw a card from a deck of cards. After replacing the drawn card back in the deck and shuffling thoroughly, what is the probability of drawing the same card again?"
   ]
  },
  {
   "cell_type": "markdown",
   "id": "aa2d7d88",
   "metadata": {
    "id": "R3aUyZvi5ChP"
   },
   "source": [
    "2. $$ P(\\text{any card}) = \\frac{52}{52} = 1 $$\n",
    "$$ P(\\text{same card as first draw}) = \\frac{1}{52} \\approx 0.019 $$\n",
    "$$ P(\\text{any card})P(\\text{same card as first draw}) = (1)(\\frac{1}{52}) = \\frac{1}{52} \\approx 0.019$$"
   ]
  },
  {
   "cell_type": "markdown",
   "id": "0b3636ea",
   "metadata": {},
   "source": [
    "***"
   ]
  },
  {
   "cell_type": "markdown",
   "id": "21a7f91f",
   "metadata": {},
   "source": [
    "Use  (𝑛𝑘)  to calculate the probability of throwing three heads in five coin tosses."
   ]
  },
  {
   "cell_type": "markdown",
   "id": "b7c7b20d",
   "metadata": {
    "id": "S8tA4XlQ5ChP"
   },
   "source": [
    "3. $$ {n \\choose k} = {5 \\choose 3} = \\frac{5!}{3!(5 - 3)!} = \\frac{5!}{(3!)(2!)} = \\frac{5 \\times 4 \\times 3 \\times 2 \\times 1}{(3 \\times 2 \\times 1)(2 \\times 1)} = \\frac{120}{(6)(2)} = \\frac{120}{12} = 10 $$"
   ]
  },
  {
   "attachments": {
    "image.png": {
     "image/png": "[encoded data removed]"
    }
   },
   "cell_type": "markdown",
   "id": "2144482f",
   "metadata": {},
   "source": [
    "![image.png](attachment:image.png)"
   ]
  },
  {
   "cell_type": "code",
   "execution_count": 2,
   "id": "4a8877e9",
   "metadata": {},
   "outputs": [],
   "source": [
    "# the n/k formula gets us the # of outcomes of event"
   ]
  },
  {
   "cell_type": "code",
   "execution_count": 3,
   "id": "6a709777",
   "metadata": {},
   "outputs": [],
   "source": [
    "# to get the total event space it is 2**5 = 32"
   ]
  },
  {
   "cell_type": "code",
   "execution_count": 4,
   "id": "2e04fae4",
   "metadata": {},
   "outputs": [],
   "source": [
    "# 10/32 = 0.3125"
   ]
  },
  {
   "cell_type": "markdown",
   "id": "42dbb371",
   "metadata": {},
   "source": [
    "***"
   ]
  },
  {
   "attachments": {
    "image.png": {
     "image/png": "[encoded data removed]"
    }
   },
   "cell_type": "markdown",
   "id": "91f5b601",
   "metadata": {},
   "source": [
    "![image.png](attachment:image.png)"
   ]
  },
  {
   "cell_type": "code",
   "execution_count": 9,
   "id": "a524b56f",
   "metadata": {},
   "outputs": [],
   "source": [
    "def coinflip_prob(n,k):\n",
    "    n_choose_k = factorial(n) / (factorial(k)*factorial(n-k))\n",
    "    return n_choose_k/2**n"
   ]
  },
  {
   "cell_type": "code",
   "execution_count": 10,
   "id": "e43c2783",
   "metadata": {},
   "outputs": [
    {
     "data": {
      "text/plain": [
       "0.3125"
      ]
     },
     "execution_count": 10,
     "metadata": {},
     "output_type": "execute_result"
    }
   ],
   "source": [
    "coinflip_prob(5,3)"
   ]
  },
  {
   "cell_type": "markdown",
   "id": "15add16c",
   "metadata": {},
   "source": [
    "***"
   ]
  },
  {
   "cell_type": "code",
   "execution_count": 11,
   "id": "5cc1eddd",
   "metadata": {},
   "outputs": [],
   "source": [
    "# calculate the probability of, in 5 tosses -- throwiing each of 0, 1, 2, 3, 4 and 5 heads"
   ]
  },
  {
   "cell_type": "code",
   "execution_count": 12,
   "id": "d53d47f6",
   "metadata": {},
   "outputs": [],
   "source": [
    "mylist = [coinflip_prob(5,k) for k in range(6) ]"
   ]
  },
  {
   "cell_type": "code",
   "execution_count": 13,
   "id": "f14b63a8",
   "metadata": {},
   "outputs": [
    {
     "data": {
      "text/plain": [
       "[0.03125, 0.15625, 0.3125, 0.3125, 0.15625, 0.03125]"
      ]
     },
     "execution_count": 13,
     "metadata": {},
     "output_type": "execute_result"
    }
   ],
   "source": [
    "mylist"
   ]
  },
  {
   "cell_type": "code",
   "execution_count": null,
   "id": "542c2c2e",
   "metadata": {},
   "outputs": [],
   "source": []
  }
 ],
 "metadata": {
  "kernelspec": {
   "display_name": "Python 3 (ipykernel)",
   "language": "python",
   "name": "python3"
  },
  "language_info": {
   "codemirror_mode": {
    "name": "ipython",
    "version": 3
   },
   "file_extension": ".py",
   "mimetype": "text/x-python",
   "name": "python",
   "nbconvert_exporter": "python",
   "pygments_lexer": "ipython3",
   "version": "3.9.12"
  }
 },
 "nbformat": 4,
 "nbformat_minor": 5
}
